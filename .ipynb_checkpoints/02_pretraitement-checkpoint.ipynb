{
 "cells": [
  {
   "cell_type": "code",
   "execution_count": 142,
   "id": "dda1ccee-cd3a-4767-a2a4-32ef91d9396d",
   "metadata": {},
   "outputs": [],
   "source": [
    "import warnings\n",
    "warnings.filterwarnings('ignore')\n",
    "\n",
    "path = \"../../kaggle/data/\"\n",
    "\n",
    "import pandas as pd\n",
    "import numpy as np\n",
    "import seaborn as sns\n",
    "import matplotlib.pyplot as plt\n",
    "import statsmodels.api as sm"
   ]
  },
  {
   "cell_type": "markdown",
   "id": "0fd8944d-6162-42b5-ac1b-06b684abf6da",
   "metadata": {},
   "source": [
    "### **Charegement des Datasets**"
   ]
  },
  {
   "cell_type": "code",
   "execution_count": 143,
   "id": "6f9ce7b7-f429-4a0c-8e1b-04f82d3664c6",
   "metadata": {},
   "outputs": [],
   "source": [
    "train = pd.read_csv(path + \"train.csv\")\n",
    "test = pd.read_csv(path + \"test.csv\")\n",
    "holiday_events = pd.read_csv(path + \"holidays_events.csv\")\n",
    "oil = pd.read_csv(path + \"oil.csv\")\n",
    "stores = pd.read_csv(path + \"stores.csv\")\n",
    "transactions = pd.read_csv(path + \"transactions.csv\")\n",
    "\n",
    "train[\"date\"] = pd.to_datetime(train.date)\n",
    "test[\"date\"] = pd.to_datetime(test.date)\n",
    "holiday_events[\"date\"] = pd.to_datetime(holiday_events.date)\n",
    "oil[\"date\"] = pd.to_datetime(oil.date)\n",
    "transactions[\"date\"] = pd.to_datetime(transactions.date)"
   ]
  },
  {
   "cell_type": "markdown",
   "id": "dbe51236-9483-4c84-a5fd-17574fe2c663",
   "metadata": {},
   "source": [
    "### **Fusion de Train & Test**"
   ]
  },
  {
   "cell_type": "code",
   "execution_count": 44,
   "id": "1bba5cd1-6f96-41a5-a57f-a1a411e0a4f2",
   "metadata": {},
   "outputs": [
    {
     "data": {
      "text/html": [
       "<div>\n",
       "<style scoped>\n",
       "    .dataframe tbody tr th:only-of-type {\n",
       "        vertical-align: middle;\n",
       "    }\n",
       "\n",
       "    .dataframe tbody tr th {\n",
       "        vertical-align: top;\n",
       "    }\n",
       "\n",
       "    .dataframe thead th {\n",
       "        text-align: right;\n",
       "    }\n",
       "</style>\n",
       "<table border=\"1\" class=\"dataframe\">\n",
       "  <thead>\n",
       "    <tr style=\"text-align: right;\">\n",
       "      <th></th>\n",
       "      <th>id</th>\n",
       "      <th>date</th>\n",
       "      <th>store_nbr</th>\n",
       "      <th>family</th>\n",
       "      <th>sales</th>\n",
       "      <th>onpromotion</th>\n",
       "    </tr>\n",
       "  </thead>\n",
       "  <tbody>\n",
       "    <tr>\n",
       "      <th>0</th>\n",
       "      <td>0</td>\n",
       "      <td>2013-01-01</td>\n",
       "      <td>1</td>\n",
       "      <td>AUTOMOTIVE</td>\n",
       "      <td>0.0</td>\n",
       "      <td>0</td>\n",
       "    </tr>\n",
       "  </tbody>\n",
       "</table>\n",
       "</div>"
      ],
      "text/plain": [
       "   id       date  store_nbr      family  sales  onpromotion\n",
       "0   0 2013-01-01          1  AUTOMOTIVE    0.0            0"
      ]
     },
     "execution_count": 44,
     "metadata": {},
     "output_type": "execute_result"
    }
   ],
   "source": [
    "train.head(1)"
   ]
  },
  {
   "cell_type": "code",
   "execution_count": 144,
   "id": "6309e318-2d58-473a-8485-3bed48cb22bc",
   "metadata": {},
   "outputs": [
    {
     "data": {
      "text/html": [
       "<div>\n",
       "<style scoped>\n",
       "    .dataframe tbody tr th:only-of-type {\n",
       "        vertical-align: middle;\n",
       "    }\n",
       "\n",
       "    .dataframe tbody tr th {\n",
       "        vertical-align: top;\n",
       "    }\n",
       "\n",
       "    .dataframe thead th {\n",
       "        text-align: right;\n",
       "    }\n",
       "</style>\n",
       "<table border=\"1\" class=\"dataframe\">\n",
       "  <thead>\n",
       "    <tr style=\"text-align: right;\">\n",
       "      <th></th>\n",
       "      <th>id</th>\n",
       "      <th>date</th>\n",
       "      <th>store_nbr</th>\n",
       "      <th>family</th>\n",
       "      <th>onpromotion</th>\n",
       "      <th>sales</th>\n",
       "    </tr>\n",
       "  </thead>\n",
       "  <tbody>\n",
       "    <tr>\n",
       "      <th>0</th>\n",
       "      <td>0</td>\n",
       "      <td>2013-01-01</td>\n",
       "      <td>1</td>\n",
       "      <td>AUTOMOTIVE</td>\n",
       "      <td>0</td>\n",
       "      <td>0.0</td>\n",
       "    </tr>\n",
       "    <tr>\n",
       "      <th>1</th>\n",
       "      <td>1</td>\n",
       "      <td>2013-01-01</td>\n",
       "      <td>1</td>\n",
       "      <td>BABY CARE</td>\n",
       "      <td>0</td>\n",
       "      <td>0.0</td>\n",
       "    </tr>\n",
       "  </tbody>\n",
       "</table>\n",
       "</div>"
      ],
      "text/plain": [
       "   id       date  store_nbr      family  onpromotion  sales\n",
       "0   0 2013-01-01          1  AUTOMOTIVE            0    0.0\n",
       "1   1 2013-01-01          1   BABY CARE            0    0.0"
      ]
     },
     "execution_count": 144,
     "metadata": {},
     "output_type": "execute_result"
    }
   ],
   "source": [
    "reordred_columns = list(train.drop('sales', axis=1).columns) + ['sales']\n",
    "train2 = train[reordred_columns]\n",
    "train2.head(2)"
   ]
  },
  {
   "cell_type": "code",
   "execution_count": 145,
   "id": "633424fb-427c-4806-92ae-51ba66f5dc3d",
   "metadata": {},
   "outputs": [
    {
     "data": {
      "text/html": [
       "<div>\n",
       "<style scoped>\n",
       "    .dataframe tbody tr th:only-of-type {\n",
       "        vertical-align: middle;\n",
       "    }\n",
       "\n",
       "    .dataframe tbody tr th {\n",
       "        vertical-align: top;\n",
       "    }\n",
       "\n",
       "    .dataframe thead th {\n",
       "        text-align: right;\n",
       "    }\n",
       "</style>\n",
       "<table border=\"1\" class=\"dataframe\">\n",
       "  <thead>\n",
       "    <tr style=\"text-align: right;\">\n",
       "      <th></th>\n",
       "      <th>id</th>\n",
       "      <th>date</th>\n",
       "      <th>store_nbr</th>\n",
       "      <th>family</th>\n",
       "      <th>onpromotion</th>\n",
       "      <th>sales</th>\n",
       "    </tr>\n",
       "  </thead>\n",
       "  <tbody>\n",
       "    <tr>\n",
       "      <th>0</th>\n",
       "      <td>3000888</td>\n",
       "      <td>2017-08-16</td>\n",
       "      <td>1</td>\n",
       "      <td>AUTOMOTIVE</td>\n",
       "      <td>0</td>\n",
       "      <td>NaN</td>\n",
       "    </tr>\n",
       "    <tr>\n",
       "      <th>1</th>\n",
       "      <td>3000889</td>\n",
       "      <td>2017-08-16</td>\n",
       "      <td>1</td>\n",
       "      <td>BABY CARE</td>\n",
       "      <td>0</td>\n",
       "      <td>NaN</td>\n",
       "    </tr>\n",
       "  </tbody>\n",
       "</table>\n",
       "</div>"
      ],
      "text/plain": [
       "        id       date  store_nbr      family  onpromotion  sales\n",
       "0  3000888 2017-08-16          1  AUTOMOTIVE            0    NaN\n",
       "1  3000889 2017-08-16          1   BABY CARE            0    NaN"
      ]
     },
     "execution_count": 145,
     "metadata": {},
     "output_type": "execute_result"
    }
   ],
   "source": [
    "# Ajout de la variable sales et le remplir en nan\n",
    "test['sales'] = np.nan\n",
    "test.head(2)"
   ]
  },
  {
   "cell_type": "code",
   "execution_count": 146,
   "id": "d4e296e9-a149-4c8b-a47b-a49c194258a0",
   "metadata": {},
   "outputs": [
    {
     "data": {
      "text/html": [
       "<div>\n",
       "<style scoped>\n",
       "    .dataframe tbody tr th:only-of-type {\n",
       "        vertical-align: middle;\n",
       "    }\n",
       "\n",
       "    .dataframe tbody tr th {\n",
       "        vertical-align: top;\n",
       "    }\n",
       "\n",
       "    .dataframe thead th {\n",
       "        text-align: right;\n",
       "    }\n",
       "</style>\n",
       "<table border=\"1\" class=\"dataframe\">\n",
       "  <thead>\n",
       "    <tr style=\"text-align: right;\">\n",
       "      <th></th>\n",
       "      <th>date</th>\n",
       "      <th>store_nbr</th>\n",
       "      <th>family</th>\n",
       "      <th>onpromotion</th>\n",
       "      <th>sales</th>\n",
       "    </tr>\n",
       "    <tr>\n",
       "      <th>id</th>\n",
       "      <th></th>\n",
       "      <th></th>\n",
       "      <th></th>\n",
       "      <th></th>\n",
       "      <th></th>\n",
       "    </tr>\n",
       "  </thead>\n",
       "  <tbody>\n",
       "    <tr>\n",
       "      <th>0</th>\n",
       "      <td>2013-01-01</td>\n",
       "      <td>1</td>\n",
       "      <td>AUTOMOTIVE</td>\n",
       "      <td>0</td>\n",
       "      <td>0.0</td>\n",
       "    </tr>\n",
       "    <tr>\n",
       "      <th>1</th>\n",
       "      <td>2013-01-01</td>\n",
       "      <td>1</td>\n",
       "      <td>BABY CARE</td>\n",
       "      <td>0</td>\n",
       "      <td>0.0</td>\n",
       "    </tr>\n",
       "    <tr>\n",
       "      <th>2</th>\n",
       "      <td>2013-01-01</td>\n",
       "      <td>1</td>\n",
       "      <td>BEAUTY</td>\n",
       "      <td>0</td>\n",
       "      <td>0.0</td>\n",
       "    </tr>\n",
       "    <tr>\n",
       "      <th>3</th>\n",
       "      <td>2013-01-01</td>\n",
       "      <td>1</td>\n",
       "      <td>BEVERAGES</td>\n",
       "      <td>0</td>\n",
       "      <td>0.0</td>\n",
       "    </tr>\n",
       "    <tr>\n",
       "      <th>4</th>\n",
       "      <td>2013-01-01</td>\n",
       "      <td>1</td>\n",
       "      <td>BOOKS</td>\n",
       "      <td>0</td>\n",
       "      <td>0.0</td>\n",
       "    </tr>\n",
       "    <tr>\n",
       "      <th>...</th>\n",
       "      <td>...</td>\n",
       "      <td>...</td>\n",
       "      <td>...</td>\n",
       "      <td>...</td>\n",
       "      <td>...</td>\n",
       "    </tr>\n",
       "    <tr>\n",
       "      <th>3029395</th>\n",
       "      <td>2017-08-31</td>\n",
       "      <td>9</td>\n",
       "      <td>POULTRY</td>\n",
       "      <td>1</td>\n",
       "      <td>NaN</td>\n",
       "    </tr>\n",
       "    <tr>\n",
       "      <th>3029396</th>\n",
       "      <td>2017-08-31</td>\n",
       "      <td>9</td>\n",
       "      <td>PREPARED FOODS</td>\n",
       "      <td>0</td>\n",
       "      <td>NaN</td>\n",
       "    </tr>\n",
       "    <tr>\n",
       "      <th>3029397</th>\n",
       "      <td>2017-08-31</td>\n",
       "      <td>9</td>\n",
       "      <td>PRODUCE</td>\n",
       "      <td>1</td>\n",
       "      <td>NaN</td>\n",
       "    </tr>\n",
       "    <tr>\n",
       "      <th>3029398</th>\n",
       "      <td>2017-08-31</td>\n",
       "      <td>9</td>\n",
       "      <td>SCHOOL AND OFFICE SUPPLIES</td>\n",
       "      <td>9</td>\n",
       "      <td>NaN</td>\n",
       "    </tr>\n",
       "    <tr>\n",
       "      <th>3029399</th>\n",
       "      <td>2017-08-31</td>\n",
       "      <td>9</td>\n",
       "      <td>SEAFOOD</td>\n",
       "      <td>0</td>\n",
       "      <td>NaN</td>\n",
       "    </tr>\n",
       "  </tbody>\n",
       "</table>\n",
       "<p>3029400 rows × 5 columns</p>\n",
       "</div>"
      ],
      "text/plain": [
       "              date  store_nbr                      family  onpromotion  sales\n",
       "id                                                                           \n",
       "0       2013-01-01          1                  AUTOMOTIVE            0    0.0\n",
       "1       2013-01-01          1                   BABY CARE            0    0.0\n",
       "2       2013-01-01          1                      BEAUTY            0    0.0\n",
       "3       2013-01-01          1                   BEVERAGES            0    0.0\n",
       "4       2013-01-01          1                       BOOKS            0    0.0\n",
       "...            ...        ...                         ...          ...    ...\n",
       "3029395 2017-08-31          9                     POULTRY            1    NaN\n",
       "3029396 2017-08-31          9              PREPARED FOODS            0    NaN\n",
       "3029397 2017-08-31          9                     PRODUCE            1    NaN\n",
       "3029398 2017-08-31          9  SCHOOL AND OFFICE SUPPLIES            9    NaN\n",
       "3029399 2017-08-31          9                     SEAFOOD            0    NaN\n",
       "\n",
       "[3029400 rows x 5 columns]"
      ]
     },
     "execution_count": 146,
     "metadata": {},
     "output_type": "execute_result"
    }
   ],
   "source": [
    "# conncaténation des deux dataset train et test\n",
    "train_merged = pd.concat([train2, test])\n",
    "train_merged.index = train_merged.id\n",
    "train_merged.drop('id', axis=1, inplace=True)\n",
    "train_merged"
   ]
  },
  {
   "cell_type": "code",
   "execution_count": 147,
   "id": "402fa395-7000-42e3-8011-1aca9f2a6461",
   "metadata": {},
   "outputs": [
    {
     "name": "stdout",
     "output_type": "stream",
     "text": [
      "Shape (3029400, 5)\n",
      "\n"
     ]
    },
    {
     "data": {
      "text/html": [
       "<div>\n",
       "<style scoped>\n",
       "    .dataframe tbody tr th:only-of-type {\n",
       "        vertical-align: middle;\n",
       "    }\n",
       "\n",
       "    .dataframe tbody tr th {\n",
       "        vertical-align: top;\n",
       "    }\n",
       "\n",
       "    .dataframe thead th {\n",
       "        text-align: right;\n",
       "    }\n",
       "</style>\n",
       "<table border=\"1\" class=\"dataframe\">\n",
       "  <thead>\n",
       "    <tr style=\"text-align: right;\">\n",
       "      <th></th>\n",
       "      <th>date</th>\n",
       "      <th>store_nbr</th>\n",
       "      <th>family</th>\n",
       "      <th>onpromotion</th>\n",
       "      <th>sales</th>\n",
       "    </tr>\n",
       "    <tr>\n",
       "      <th>id</th>\n",
       "      <th></th>\n",
       "      <th></th>\n",
       "      <th></th>\n",
       "      <th></th>\n",
       "      <th></th>\n",
       "    </tr>\n",
       "  </thead>\n",
       "  <tbody>\n",
       "    <tr>\n",
       "      <th>0</th>\n",
       "      <td>2013-01-01</td>\n",
       "      <td>1</td>\n",
       "      <td>AUTOMOTIVE</td>\n",
       "      <td>0</td>\n",
       "      <td>0.0</td>\n",
       "    </tr>\n",
       "    <tr>\n",
       "      <th>1</th>\n",
       "      <td>2013-01-01</td>\n",
       "      <td>1</td>\n",
       "      <td>BABY CARE</td>\n",
       "      <td>0</td>\n",
       "      <td>0.0</td>\n",
       "    </tr>\n",
       "  </tbody>\n",
       "</table>\n",
       "</div>"
      ],
      "text/plain": [
       "         date  store_nbr      family  onpromotion  sales\n",
       "id                                                      \n",
       "0  2013-01-01          1  AUTOMOTIVE            0    0.0\n",
       "1  2013-01-01          1   BABY CARE            0    0.0"
      ]
     },
     "execution_count": 147,
     "metadata": {},
     "output_type": "execute_result"
    }
   ],
   "source": [
    "print(f\"Shape {train_merged.shape}\")\n",
    "print()\n",
    "train_merged.head(2)"
   ]
  },
  {
   "cell_type": "markdown",
   "id": "c959a9ae-adcd-4002-b017-28967b4891a7",
   "metadata": {},
   "source": [
    "### **Fusion avec stores**"
   ]
  },
  {
   "cell_type": "code",
   "execution_count": 148,
   "id": "9500099d-34f1-41e8-ad49-d0e5aca211d1",
   "metadata": {},
   "outputs": [
    {
     "name": "stdout",
     "output_type": "stream",
     "text": [
      "shape (3029400, 9)\n",
      "\n"
     ]
    },
    {
     "data": {
      "text/html": [
       "<div>\n",
       "<style scoped>\n",
       "    .dataframe tbody tr th:only-of-type {\n",
       "        vertical-align: middle;\n",
       "    }\n",
       "\n",
       "    .dataframe tbody tr th {\n",
       "        vertical-align: top;\n",
       "    }\n",
       "\n",
       "    .dataframe thead th {\n",
       "        text-align: right;\n",
       "    }\n",
       "</style>\n",
       "<table border=\"1\" class=\"dataframe\">\n",
       "  <thead>\n",
       "    <tr style=\"text-align: right;\">\n",
       "      <th></th>\n",
       "      <th>date</th>\n",
       "      <th>store_nbr</th>\n",
       "      <th>family</th>\n",
       "      <th>onpromotion</th>\n",
       "      <th>sales</th>\n",
       "      <th>city</th>\n",
       "      <th>state</th>\n",
       "      <th>type</th>\n",
       "      <th>cluster</th>\n",
       "    </tr>\n",
       "  </thead>\n",
       "  <tbody>\n",
       "    <tr>\n",
       "      <th>0</th>\n",
       "      <td>2013-01-01</td>\n",
       "      <td>1</td>\n",
       "      <td>AUTOMOTIVE</td>\n",
       "      <td>0</td>\n",
       "      <td>0.0</td>\n",
       "      <td>Quito</td>\n",
       "      <td>Pichincha</td>\n",
       "      <td>D</td>\n",
       "      <td>13</td>\n",
       "    </tr>\n",
       "    <tr>\n",
       "      <th>1</th>\n",
       "      <td>2013-01-01</td>\n",
       "      <td>1</td>\n",
       "      <td>BABY CARE</td>\n",
       "      <td>0</td>\n",
       "      <td>0.0</td>\n",
       "      <td>Quito</td>\n",
       "      <td>Pichincha</td>\n",
       "      <td>D</td>\n",
       "      <td>13</td>\n",
       "    </tr>\n",
       "  </tbody>\n",
       "</table>\n",
       "</div>"
      ],
      "text/plain": [
       "        date  store_nbr      family  onpromotion  sales   city      state  \\\n",
       "0 2013-01-01          1  AUTOMOTIVE            0    0.0  Quito  Pichincha   \n",
       "1 2013-01-01          1   BABY CARE            0    0.0  Quito  Pichincha   \n",
       "\n",
       "  type  cluster  \n",
       "0    D       13  \n",
       "1    D       13  "
      ]
     },
     "execution_count": 148,
     "metadata": {},
     "output_type": "execute_result"
    }
   ],
   "source": [
    "train_merged = pd.merge(train_merged,\n",
    "                        stores,\n",
    "                        how = \"left\",\n",
    "                        on = \"store_nbr\")\n",
    "\n",
    "print(f\"shape {train_merged.shape}\")\n",
    "print()\n",
    "train_merged.head(2)"
   ]
  },
  {
   "cell_type": "markdown",
   "id": "b8eac992-453f-40d4-a48a-08e7e2129cdb",
   "metadata": {},
   "source": [
    "### **Fusion avec holiday_events**"
   ]
  },
  {
   "cell_type": "code",
   "execution_count": 149,
   "id": "1bd5c283-857d-466e-8fc9-ffc9b6c91372",
   "metadata": {},
   "outputs": [
    {
     "name": "stdout",
     "output_type": "stream",
     "text": [
      "shape (3029400, 14)\n"
     ]
    }
   ],
   "source": [
    "train_merged = pd.merge(train_merged,\n",
    "                        holiday_events.drop_duplicates(subset = ['date'], keep='last') ,\n",
    "                        how = \"left\",\n",
    "                        on = 'date', \n",
    "                        validate = \"many_to_one\", suffixes=(\"stores\", \"holiday\"))\n",
    "\n",
    "print(f\"shape {train_merged.shape}\")"
   ]
  },
  {
   "cell_type": "code",
   "execution_count": 150,
   "id": "49fba9d3-7942-48c9-a2b3-756fda7b6a69",
   "metadata": {},
   "outputs": [],
   "source": [
    "# convert transfered holidays to normal days (NDay)\n",
    "train_merged[\"typeholiday\"] = np.where(train_merged[\"transferred\"]==True,'NDay',train_merged[\"typeholiday\"])\n",
    "train_merged[\"typeholiday\"] = np.where(train_merged[\"typeholiday\"]=='Work Day','NDay',train_merged[\"typeholiday\"])\n",
    "train_merged[\"typeholiday\"] = train_merged[\"typeholiday\"].fillna(\"NDay\")"
   ]
  },
  {
   "cell_type": "code",
   "execution_count": 151,
   "id": "dc2b856c-1335-4841-93c1-241dc8781930",
   "metadata": {},
   "outputs": [
    {
     "data": {
      "text/plain": [
       "typeholiday\n",
       "NDay          2603502\n",
       "Holiday        249480\n",
       "Event           98010\n",
       "Additional      58806\n",
       "Transfer        16038\n",
       "Bridge           3564\n",
       "Name: count, dtype: int64"
      ]
     },
     "metadata": {},
     "output_type": "display_data"
    }
   ],
   "source": [
    "display(train_merged[\"typeholiday\"].value_counts(dropna=False))"
   ]
  },
  {
   "cell_type": "markdown",
   "id": "de874b61-fd04-41e8-b464-a9de05639ba3",
   "metadata": {},
   "source": [
    "### **Fusion avec oil**"
   ]
  },
  {
   "cell_type": "code",
   "execution_count": 152,
   "id": "6d3f2640-5cf0-4d3b-853a-2a4fdf5cbbe4",
   "metadata": {},
   "outputs": [
    {
     "name": "stdout",
     "output_type": "stream",
     "text": [
      "shape (3029400, 15)\n"
     ]
    }
   ],
   "source": [
    "train_merged = pd.merge(train_merged, oil, how = \"left\", on = 'date')\n",
    "print(f\"shape {train_merged.shape}\")"
   ]
  },
  {
   "cell_type": "code",
   "execution_count": 153,
   "id": "d76bbd0e-2f56-4c48-ab3d-fe9ca59f56bc",
   "metadata": {},
   "outputs": [
    {
     "data": {
      "image/png": "[encoded data removed]",
      "text/plain": [
       "<Figure size 1200x400 with 1 Axes>"
      ]
     },
     "metadata": {},
     "output_type": "display_data"
    }
   ],
   "source": [
    "# plot oil\n",
    "def plot_oil(data):\n",
    "    fig, ax = plt.subplots(figsize=(12,4))\n",
    "    plt.plot(data[\"date\"], data[\"dcoilwtico\"], '-')\n",
    "    plt.xlabel(\"Time\")\n",
    "    plt.ylabel(\"Sales\")\n",
    "    plt.grid(True)\n",
    "    plt.show()\n",
    "    plt.close()\n",
    "\n",
    "plot_oil(train_merged)"
   ]
  },
  {
   "cell_type": "code",
   "execution_count": 154,
   "id": "88f9959c-612e-4345-a12c-b33268b00607",
   "metadata": {},
   "outputs": [
    {
     "data": {
      "text/plain": [
       "dcoilwtico    935550\n",
       "dtype: int64"
      ]
     },
     "execution_count": 154,
     "metadata": {},
     "output_type": "execute_result"
    }
   ],
   "source": [
    "# avant remplissage des valeurs manquantes\n",
    "train_merged[['dcoilwtico']].isna().sum()"
   ]
  },
  {
   "cell_type": "code",
   "execution_count": 155,
   "id": "46a9192b-6259-4ce7-baa5-4983d8c15c6b",
   "metadata": {},
   "outputs": [],
   "source": [
    "# interpolation lineaire pour remplir les valeurs à O et les valeurs manquantes \n",
    "train_merged[\"dcoilwtico\"] = np.where(train_merged[\"dcoilwtico\"] == 0, np.nan, train_merged[\"dcoilwtico\"])\n",
    "train_merged.dcoilwtico.interpolate(limit_direction='both',inplace=True)"
   ]
  },
  {
   "cell_type": "code",
   "execution_count": 156,
   "id": "04785d5b-236b-4e0a-891a-eb58a7627846",
   "metadata": {},
   "outputs": [
    {
     "data": {
      "text/plain": [
       "dcoilwtico    0\n",
       "dtype: int64"
      ]
     },
     "execution_count": 156,
     "metadata": {},
     "output_type": "execute_result"
    }
   ],
   "source": [
    "# après remplissage des valeurs manquantes\n",
    "train_merged[['dcoilwtico']].isna().sum()"
   ]
  },
  {
   "cell_type": "code",
   "execution_count": 157,
   "id": "39aee6df-1bf0-43fb-951c-b0ef87851c1f",
   "metadata": {},
   "outputs": [
    {
     "data": {
      "image/png": "[encoded data removed]",
      "text/plain": [
       "<Figure size 1200x400 with 1 Axes>"
      ]
     },
     "metadata": {},
     "output_type": "display_data"
    }
   ],
   "source": [
    "plot_oil(train_merged)"
   ]
  },
  {
   "cell_type": "markdown",
   "id": "0f8b7541-11c4-4947-8af8-69354ad524c7",
   "metadata": {},
   "source": [
    "### **Numérisatoin de la variable date**"
   ]
  },
  {
   "cell_type": "code",
   "execution_count": 158,
   "id": "afac6db0-98e9-460e-ae83-b350082b7c14",
   "metadata": {},
   "outputs": [],
   "source": [
    "# extracting time features for train dataset\n",
    "train_merged['day_of_week'] = train_merged['date'].dt.day_of_week\n",
    "train_merged['day_of_week'] = train_merged['day_of_week']+1\n",
    "train_merged['month'] = train_merged['date'].dt.month\n",
    "train_merged['year'] = train_merged['date'].dt.year"
   ]
  },
  {
   "cell_type": "code",
   "execution_count": 159,
   "id": "bbc36536-9e1b-42f0-952e-dd139ef129e8",
   "metadata": {},
   "outputs": [
    {
     "data": {
      "text/plain": [
       "date                 0\n",
       "store_nbr            0\n",
       "family               0\n",
       "onpromotion          0\n",
       "sales            28512\n",
       "city                 0\n",
       "state                0\n",
       "typestores           0\n",
       "cluster              0\n",
       "typeholiday          0\n",
       "locale         2578554\n",
       "locale_name    2578554\n",
       "description    2578554\n",
       "transferred    2578554\n",
       "dcoilwtico           0\n",
       "day_of_week          0\n",
       "month                0\n",
       "year                 0\n",
       "dtype: int64"
      ]
     },
     "execution_count": 159,
     "metadata": {},
     "output_type": "execute_result"
    }
   ],
   "source": [
    "train_merged.isna().sum()"
   ]
  },
  {
   "cell_type": "markdown",
   "id": "1e9bd3af-3af4-4f00-913d-f886b0ce2da6",
   "metadata": {},
   "source": [
    "### **Export de Dataset prétraité**"
   ]
  },
  {
   "cell_type": "code",
   "execution_count": 160,
   "id": "6b31d592-fdcc-43f8-be88-b39afa4a33ff",
   "metadata": {},
   "outputs": [],
   "source": [
    "train_merged.to_csv(path + \"train_merged.csv\", index=False, header=True, sep=',')"
   ]
  }
 ],
 "metadata": {
  "kernelspec": {
   "display_name": "Python 3 (ipykernel)",
   "language": "python",
   "name": "python3"
  },
  "language_info": {
   "codemirror_mode": {
    "name": "ipython",
    "version": 3
   },
   "file_extension": ".py",
   "mimetype": "text/x-python",
   "name": "python",
   "nbconvert_exporter": "python",
   "pygments_lexer": "ipython3",
   "version": "3.11.5"
  }
 },
 "nbformat": 4,
 "nbformat_minor": 5
}
