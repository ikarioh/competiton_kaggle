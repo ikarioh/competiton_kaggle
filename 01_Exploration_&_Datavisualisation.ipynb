{
 "cells": [
  {
   "cell_type": "code",
   "execution_count": 10,
   "id": "3022839b-c73c-4c90-90e3-28047036b167",
   "metadata": {},
   "outputs": [],
   "source": [
    "import warnings\n",
    "warnings.filterwarnings('ignore')\n",
    "\n",
    "path = \"../../kaggle/data/\"\n",
    "\n",
    "import pandas as pd\n",
    "import numpy as np\n",
    "import seaborn as sns\n",
    "import matplotlib.pyplot as plt\n",
    "import statsmodels.api as sm\n",
    "\n",
    "# Pour afficher des caréctéritiques des datasets\n",
    "def inspect_columns(df):    \n",
    "    total_rows = len(df)\n",
    "    result = pd.DataFrame({\n",
    "        'total_rows': [total_rows] * df.shape[1],\n",
    "        'missing_values': df.isnull().sum(),\n",
    "        'unique': df.nunique() == total_rows,\n",
    "        'cardinality': df.nunique(),\n",
    "        'with_null': df.isna().any(),\n",
    "        'null_pct': round((df.isnull().sum() / total_rows) * 100, 2),\n",
    "        '1st_row': df.iloc[0],\n",
    "        'random_row': df.iloc[np.random.randint(low=0, high=total_rows)],\n",
    "        'last_row': df.iloc[-1],\n",
    "        'dtype': df.dtypes,\n",
    "\n",
    "    })\n",
    "    \n",
    "    return result"
   ]
  },
  {
   "cell_type": "markdown",
   "id": "23f82e99-b305-4ee3-8ebb-2c4d302a1eb4",
   "metadata": {},
   "source": [
    "### I. Chargement des Datasets"
   ]
  },
  {
   "cell_type": "markdown",
   "id": "84df90fd-ef15-4bbe-aa15-cad35a1c0975",
   "metadata": {},
   "source": [
    "#### **1.  Train.csv & Test.csv**"
   ]
  },
  {
   "cell_type": "code",
   "execution_count": 21,
   "id": "e3a7927c-28c9-4f1f-8377-bf02459a9ff6",
   "metadata": {},
   "outputs": [],
   "source": [
    "train = pd.read_csv(path + \"train.csv\")\n",
    "test = pd.read_csv(path + \"test.csv\")\n",
    "\n",
    "train[\"date\"] = pd.to_datetime(train.date)\n",
    "test[\"date\"] = pd.to_datetime(test.date)"
   ]
  },
  {
   "cell_type": "markdown",
   "id": "ab438556-d0b5-42ef-b4bc-486372564db0",
   "metadata": {},
   "source": [
    "##### **1.1.  Descriptions des variables de train & test Datasets:**\n",
    "\n",
    "- **date** : The date when the data was recorded.\n",
    "- **store_nbr** : Identifies the store at which the products are sold.\n",
    "- **family** : Identifies the type of product sold.\n",
    "- **onpromotion** : Gives the total number of items in a product family that were being promoted at a store at a given date.\n",
    "\n",
    " The <ins>**Target variable**</ins>\n",
    "- **sales** : Gives the total sales for a product family at a particular store at a given date. Fractional values are possible."
   ]
  },
  {
   "cell_type": "markdown",
   "id": "94335ee5-2158-4ea5-b1f3-a8cc3996edb1",
   "metadata": {},
   "source": [
    "##### **1.2.  Caractéristiques des variables de train & test Datasets:**"
   ]
  },
  {
   "cell_type": "code",
   "execution_count": 22,
   "id": "7367b2f1-d2d9-49f6-a6ca-665d189f82f0",
   "metadata": {},
   "outputs": [
    {
     "data": {
      "text/html": [
       "<div>\n",
       "<style scoped>\n",
       "    .dataframe tbody tr th:only-of-type {\n",
       "        vertical-align: middle;\n",
       "    }\n",
       "\n",
       "    .dataframe tbody tr th {\n",
       "        vertical-align: top;\n",
       "    }\n",
       "\n",
       "    .dataframe thead th {\n",
       "        text-align: right;\n",
       "    }\n",
       "</style>\n",
       "<table border=\"1\" class=\"dataframe\">\n",
       "  <thead>\n",
       "    <tr style=\"text-align: right;\">\n",
       "      <th></th>\n",
       "      <th>total_rows</th>\n",
       "      <th>missing_values</th>\n",
       "      <th>unique</th>\n",
       "      <th>cardinality</th>\n",
       "      <th>with_null</th>\n",
       "      <th>null_pct</th>\n",
       "      <th>1st_row</th>\n",
       "      <th>random_row</th>\n",
       "      <th>last_row</th>\n",
       "      <th>dtype</th>\n",
       "    </tr>\n",
       "  </thead>\n",
       "  <tbody>\n",
       "    <tr>\n",
       "      <th>id</th>\n",
       "      <td>3000888</td>\n",
       "      <td>0</td>\n",
       "      <td>True</td>\n",
       "      <td>3000888</td>\n",
       "      <td>False</td>\n",
       "      <td>0.0</td>\n",
       "      <td>0</td>\n",
       "      <td>1408615</td>\n",
       "      <td>3000887</td>\n",
       "      <td>int64</td>\n",
       "    </tr>\n",
       "    <tr>\n",
       "      <th>date</th>\n",
       "      <td>3000888</td>\n",
       "      <td>0</td>\n",
       "      <td>False</td>\n",
       "      <td>1684</td>\n",
       "      <td>False</td>\n",
       "      <td>0.0</td>\n",
       "      <td>2013-01-01 00:00:00</td>\n",
       "      <td>2015-03-04 00:00:00</td>\n",
       "      <td>2017-08-15 00:00:00</td>\n",
       "      <td>datetime64[ns]</td>\n",
       "    </tr>\n",
       "    <tr>\n",
       "      <th>store_nbr</th>\n",
       "      <td>3000888</td>\n",
       "      <td>0</td>\n",
       "      <td>False</td>\n",
       "      <td>54</td>\n",
       "      <td>False</td>\n",
       "      <td>0.0</td>\n",
       "      <td>1</td>\n",
       "      <td>32</td>\n",
       "      <td>9</td>\n",
       "      <td>int64</td>\n",
       "    </tr>\n",
       "    <tr>\n",
       "      <th>family</th>\n",
       "      <td>3000888</td>\n",
       "      <td>0</td>\n",
       "      <td>False</td>\n",
       "      <td>33</td>\n",
       "      <td>False</td>\n",
       "      <td>0.0</td>\n",
       "      <td>AUTOMOTIVE</td>\n",
       "      <td>EGGS</td>\n",
       "      <td>SEAFOOD</td>\n",
       "      <td>object</td>\n",
       "    </tr>\n",
       "    <tr>\n",
       "      <th>sales</th>\n",
       "      <td>3000888</td>\n",
       "      <td>0</td>\n",
       "      <td>False</td>\n",
       "      <td>379610</td>\n",
       "      <td>False</td>\n",
       "      <td>0.0</td>\n",
       "      <td>0.0</td>\n",
       "      <td>177.0</td>\n",
       "      <td>16.0</td>\n",
       "      <td>float64</td>\n",
       "    </tr>\n",
       "    <tr>\n",
       "      <th>onpromotion</th>\n",
       "      <td>3000888</td>\n",
       "      <td>0</td>\n",
       "      <td>False</td>\n",
       "      <td>362</td>\n",
       "      <td>False</td>\n",
       "      <td>0.0</td>\n",
       "      <td>0</td>\n",
       "      <td>0</td>\n",
       "      <td>0</td>\n",
       "      <td>int64</td>\n",
       "    </tr>\n",
       "  </tbody>\n",
       "</table>\n",
       "</div>"
      ],
      "text/plain": [
       "             total_rows  missing_values  unique  cardinality  with_null  \\\n",
       "id              3000888               0    True      3000888      False   \n",
       "date            3000888               0   False         1684      False   \n",
       "store_nbr       3000888               0   False           54      False   \n",
       "family          3000888               0   False           33      False   \n",
       "sales           3000888               0   False       379610      False   \n",
       "onpromotion     3000888               0   False          362      False   \n",
       "\n",
       "             null_pct              1st_row           random_row  \\\n",
       "id                0.0                    0              1408615   \n",
       "date              0.0  2013-01-01 00:00:00  2015-03-04 00:00:00   \n",
       "store_nbr         0.0                    1                   32   \n",
       "family            0.0           AUTOMOTIVE                 EGGS   \n",
       "sales             0.0                  0.0                177.0   \n",
       "onpromotion       0.0                    0                    0   \n",
       "\n",
       "                        last_row           dtype  \n",
       "id                       3000887           int64  \n",
       "date         2017-08-15 00:00:00  datetime64[ns]  \n",
       "store_nbr                      9           int64  \n",
       "family                   SEAFOOD          object  \n",
       "sales                       16.0         float64  \n",
       "onpromotion                    0           int64  "
      ]
     },
     "execution_count": 22,
     "metadata": {},
     "output_type": "execute_result"
    }
   ],
   "source": [
    "inspect_columns(train)"
   ]
  },
  {
   "cell_type": "code",
   "execution_count": 23,
   "id": "6eb12ec9-b63b-4454-adb3-b4d9c38d8706",
   "metadata": {},
   "outputs": [
    {
     "data": {
      "text/html": [
       "<div>\n",
       "<style scoped>\n",
       "    .dataframe tbody tr th:only-of-type {\n",
       "        vertical-align: middle;\n",
       "    }\n",
       "\n",
       "    .dataframe tbody tr th {\n",
       "        vertical-align: top;\n",
       "    }\n",
       "\n",
       "    .dataframe thead th {\n",
       "        text-align: right;\n",
       "    }\n",
       "</style>\n",
       "<table border=\"1\" class=\"dataframe\">\n",
       "  <thead>\n",
       "    <tr style=\"text-align: right;\">\n",
       "      <th></th>\n",
       "      <th>total_rows</th>\n",
       "      <th>missing_values</th>\n",
       "      <th>unique</th>\n",
       "      <th>cardinality</th>\n",
       "      <th>with_null</th>\n",
       "      <th>null_pct</th>\n",
       "      <th>1st_row</th>\n",
       "      <th>random_row</th>\n",
       "      <th>last_row</th>\n",
       "      <th>dtype</th>\n",
       "    </tr>\n",
       "  </thead>\n",
       "  <tbody>\n",
       "    <tr>\n",
       "      <th>id</th>\n",
       "      <td>28512</td>\n",
       "      <td>0</td>\n",
       "      <td>True</td>\n",
       "      <td>28512</td>\n",
       "      <td>False</td>\n",
       "      <td>0.0</td>\n",
       "      <td>3000888</td>\n",
       "      <td>3028244</td>\n",
       "      <td>3029399</td>\n",
       "      <td>int64</td>\n",
       "    </tr>\n",
       "    <tr>\n",
       "      <th>date</th>\n",
       "      <td>28512</td>\n",
       "      <td>0</td>\n",
       "      <td>False</td>\n",
       "      <td>16</td>\n",
       "      <td>False</td>\n",
       "      <td>0.0</td>\n",
       "      <td>2017-08-16 00:00:00</td>\n",
       "      <td>2017-08-31 00:00:00</td>\n",
       "      <td>2017-08-31 00:00:00</td>\n",
       "      <td>datetime64[ns]</td>\n",
       "    </tr>\n",
       "    <tr>\n",
       "      <th>store_nbr</th>\n",
       "      <td>28512</td>\n",
       "      <td>0</td>\n",
       "      <td>False</td>\n",
       "      <td>54</td>\n",
       "      <td>False</td>\n",
       "      <td>0.0</td>\n",
       "      <td>1</td>\n",
       "      <td>26</td>\n",
       "      <td>9</td>\n",
       "      <td>int64</td>\n",
       "    </tr>\n",
       "    <tr>\n",
       "      <th>family</th>\n",
       "      <td>28512</td>\n",
       "      <td>0</td>\n",
       "      <td>False</td>\n",
       "      <td>33</td>\n",
       "      <td>False</td>\n",
       "      <td>0.0</td>\n",
       "      <td>AUTOMOTIVE</td>\n",
       "      <td>SEAFOOD</td>\n",
       "      <td>SEAFOOD</td>\n",
       "      <td>object</td>\n",
       "    </tr>\n",
       "    <tr>\n",
       "      <th>onpromotion</th>\n",
       "      <td>28512</td>\n",
       "      <td>0</td>\n",
       "      <td>False</td>\n",
       "      <td>212</td>\n",
       "      <td>False</td>\n",
       "      <td>0.0</td>\n",
       "      <td>0</td>\n",
       "      <td>0</td>\n",
       "      <td>0</td>\n",
       "      <td>int64</td>\n",
       "    </tr>\n",
       "  </tbody>\n",
       "</table>\n",
       "</div>"
      ],
      "text/plain": [
       "             total_rows  missing_values  unique  cardinality  with_null  \\\n",
       "id                28512               0    True        28512      False   \n",
       "date              28512               0   False           16      False   \n",
       "store_nbr         28512               0   False           54      False   \n",
       "family            28512               0   False           33      False   \n",
       "onpromotion       28512               0   False          212      False   \n",
       "\n",
       "             null_pct              1st_row           random_row  \\\n",
       "id                0.0              3000888              3028244   \n",
       "date              0.0  2017-08-16 00:00:00  2017-08-31 00:00:00   \n",
       "store_nbr         0.0                    1                   26   \n",
       "family            0.0           AUTOMOTIVE              SEAFOOD   \n",
       "onpromotion       0.0                    0                    0   \n",
       "\n",
       "                        last_row           dtype  \n",
       "id                       3029399           int64  \n",
       "date         2017-08-31 00:00:00  datetime64[ns]  \n",
       "store_nbr                      9           int64  \n",
       "family                   SEAFOOD          object  \n",
       "onpromotion                    0           int64  "
      ]
     },
     "execution_count": 23,
     "metadata": {},
     "output_type": "execute_result"
    }
   ],
   "source": [
    "inspect_columns(test)"
   ]
  },
  {
   "cell_type": "code",
   "execution_count": 3,
   "id": "1ecb9af7-95e6-44ce-8311-b8bfee7ca7f5",
   "metadata": {},
   "outputs": [
    {
     "name": "stdout",
     "output_type": "stream",
     "text": [
      "--------------------------------------------------\n"
     ]
    },
    {
     "data": {
      "text/plain": [
       "'*** Train ***'"
      ]
     },
     "metadata": {},
     "output_type": "display_data"
    },
    {
     "name": "stdout",
     "output_type": "stream",
     "text": [
      "\n"
     ]
    },
    {
     "data": {
      "text/html": [
       "<div>\n",
       "<style scoped>\n",
       "    .dataframe tbody tr th:only-of-type {\n",
       "        vertical-align: middle;\n",
       "    }\n",
       "\n",
       "    .dataframe tbody tr th {\n",
       "        vertical-align: top;\n",
       "    }\n",
       "\n",
       "    .dataframe thead th {\n",
       "        text-align: right;\n",
       "    }\n",
       "</style>\n",
       "<table border=\"1\" class=\"dataframe\">\n",
       "  <thead>\n",
       "    <tr style=\"text-align: right;\">\n",
       "      <th></th>\n",
       "      <th>id</th>\n",
       "      <th>date</th>\n",
       "      <th>store_nbr</th>\n",
       "      <th>family</th>\n",
       "      <th>sales</th>\n",
       "      <th>onpromotion</th>\n",
       "    </tr>\n",
       "  </thead>\n",
       "  <tbody>\n",
       "    <tr>\n",
       "      <th>0</th>\n",
       "      <td>0</td>\n",
       "      <td>2013-01-01</td>\n",
       "      <td>1</td>\n",
       "      <td>AUTOMOTIVE</td>\n",
       "      <td>0.0</td>\n",
       "      <td>0</td>\n",
       "    </tr>\n",
       "    <tr>\n",
       "      <th>1</th>\n",
       "      <td>1</td>\n",
       "      <td>2013-01-01</td>\n",
       "      <td>1</td>\n",
       "      <td>BABY CARE</td>\n",
       "      <td>0.0</td>\n",
       "      <td>0</td>\n",
       "    </tr>\n",
       "  </tbody>\n",
       "</table>\n",
       "</div>"
      ],
      "text/plain": [
       "   id        date  store_nbr      family  sales  onpromotion\n",
       "0   0  2013-01-01          1  AUTOMOTIVE    0.0            0\n",
       "1   1  2013-01-01          1   BABY CARE    0.0            0"
      ]
     },
     "metadata": {},
     "output_type": "display_data"
    },
    {
     "data": {
      "text/html": [
       "<div>\n",
       "<style scoped>\n",
       "    .dataframe tbody tr th:only-of-type {\n",
       "        vertical-align: middle;\n",
       "    }\n",
       "\n",
       "    .dataframe tbody tr th {\n",
       "        vertical-align: top;\n",
       "    }\n",
       "\n",
       "    .dataframe thead th {\n",
       "        text-align: right;\n",
       "    }\n",
       "</style>\n",
       "<table border=\"1\" class=\"dataframe\">\n",
       "  <thead>\n",
       "    <tr style=\"text-align: right;\">\n",
       "      <th></th>\n",
       "      <th>id</th>\n",
       "      <th>date</th>\n",
       "      <th>store_nbr</th>\n",
       "      <th>family</th>\n",
       "      <th>sales</th>\n",
       "      <th>onpromotion</th>\n",
       "    </tr>\n",
       "  </thead>\n",
       "  <tbody>\n",
       "    <tr>\n",
       "      <th>3000886</th>\n",
       "      <td>3000886</td>\n",
       "      <td>2017-08-15</td>\n",
       "      <td>9</td>\n",
       "      <td>SCHOOL AND OFFICE SUPPLIES</td>\n",
       "      <td>121.0</td>\n",
       "      <td>8</td>\n",
       "    </tr>\n",
       "    <tr>\n",
       "      <th>3000887</th>\n",
       "      <td>3000887</td>\n",
       "      <td>2017-08-15</td>\n",
       "      <td>9</td>\n",
       "      <td>SEAFOOD</td>\n",
       "      <td>16.0</td>\n",
       "      <td>0</td>\n",
       "    </tr>\n",
       "  </tbody>\n",
       "</table>\n",
       "</div>"
      ],
      "text/plain": [
       "              id        date  store_nbr                      family  sales  \\\n",
       "3000886  3000886  2017-08-15          9  SCHOOL AND OFFICE SUPPLIES  121.0   \n",
       "3000887  3000887  2017-08-15          9                     SEAFOOD   16.0   \n",
       "\n",
       "         onpromotion  \n",
       "3000886            8  \n",
       "3000887            0  "
      ]
     },
     "metadata": {},
     "output_type": "display_data"
    },
    {
     "name": "stdout",
     "output_type": "stream",
     "text": [
      "\n",
      "--------------------------------------------------\n",
      "\n"
     ]
    },
    {
     "data": {
      "text/plain": [
       "'***Test***'"
      ]
     },
     "metadata": {},
     "output_type": "display_data"
    },
    {
     "name": "stdout",
     "output_type": "stream",
     "text": [
      "\n"
     ]
    },
    {
     "data": {
      "text/html": [
       "<div>\n",
       "<style scoped>\n",
       "    .dataframe tbody tr th:only-of-type {\n",
       "        vertical-align: middle;\n",
       "    }\n",
       "\n",
       "    .dataframe tbody tr th {\n",
       "        vertical-align: top;\n",
       "    }\n",
       "\n",
       "    .dataframe thead th {\n",
       "        text-align: right;\n",
       "    }\n",
       "</style>\n",
       "<table border=\"1\" class=\"dataframe\">\n",
       "  <thead>\n",
       "    <tr style=\"text-align: right;\">\n",
       "      <th></th>\n",
       "      <th>id</th>\n",
       "      <th>date</th>\n",
       "      <th>store_nbr</th>\n",
       "      <th>family</th>\n",
       "      <th>onpromotion</th>\n",
       "    </tr>\n",
       "  </thead>\n",
       "  <tbody>\n",
       "    <tr>\n",
       "      <th>0</th>\n",
       "      <td>3000888</td>\n",
       "      <td>2017-08-16</td>\n",
       "      <td>1</td>\n",
       "      <td>AUTOMOTIVE</td>\n",
       "      <td>0</td>\n",
       "    </tr>\n",
       "    <tr>\n",
       "      <th>1</th>\n",
       "      <td>3000889</td>\n",
       "      <td>2017-08-16</td>\n",
       "      <td>1</td>\n",
       "      <td>BABY CARE</td>\n",
       "      <td>0</td>\n",
       "    </tr>\n",
       "  </tbody>\n",
       "</table>\n",
       "</div>"
      ],
      "text/plain": [
       "        id        date  store_nbr      family  onpromotion\n",
       "0  3000888  2017-08-16          1  AUTOMOTIVE            0\n",
       "1  3000889  2017-08-16          1   BABY CARE            0"
      ]
     },
     "metadata": {},
     "output_type": "display_data"
    },
    {
     "data": {
      "text/html": [
       "<div>\n",
       "<style scoped>\n",
       "    .dataframe tbody tr th:only-of-type {\n",
       "        vertical-align: middle;\n",
       "    }\n",
       "\n",
       "    .dataframe tbody tr th {\n",
       "        vertical-align: top;\n",
       "    }\n",
       "\n",
       "    .dataframe thead th {\n",
       "        text-align: right;\n",
       "    }\n",
       "</style>\n",
       "<table border=\"1\" class=\"dataframe\">\n",
       "  <thead>\n",
       "    <tr style=\"text-align: right;\">\n",
       "      <th></th>\n",
       "      <th>id</th>\n",
       "      <th>date</th>\n",
       "      <th>store_nbr</th>\n",
       "      <th>family</th>\n",
       "      <th>onpromotion</th>\n",
       "    </tr>\n",
       "  </thead>\n",
       "  <tbody>\n",
       "    <tr>\n",
       "      <th>28510</th>\n",
       "      <td>3029398</td>\n",
       "      <td>2017-08-31</td>\n",
       "      <td>9</td>\n",
       "      <td>SCHOOL AND OFFICE SUPPLIES</td>\n",
       "      <td>9</td>\n",
       "    </tr>\n",
       "    <tr>\n",
       "      <th>28511</th>\n",
       "      <td>3029399</td>\n",
       "      <td>2017-08-31</td>\n",
       "      <td>9</td>\n",
       "      <td>SEAFOOD</td>\n",
       "      <td>0</td>\n",
       "    </tr>\n",
       "  </tbody>\n",
       "</table>\n",
       "</div>"
      ],
      "text/plain": [
       "            id        date  store_nbr                      family  onpromotion\n",
       "28510  3029398  2017-08-31          9  SCHOOL AND OFFICE SUPPLIES            9\n",
       "28511  3029399  2017-08-31          9                     SEAFOOD            0"
      ]
     },
     "metadata": {},
     "output_type": "display_data"
    },
    {
     "name": "stdout",
     "output_type": "stream",
     "text": [
      "--------------------------------------------------\n"
     ]
    }
   ],
   "source": [
    "print('-' * 50)\n",
    "display('*** Train ***')\n",
    "print()\n",
    "display(train.head(2))\n",
    "display(train.tail(2))\n",
    "print()\n",
    "print('-' * 50)\n",
    "print()\n",
    "display('***Test***')\n",
    "print()\n",
    "display(test.head(2))\n",
    "display(test.tail(2))\n",
    "print('-' * 50)"
   ]
  },
  {
   "cell_type": "code",
   "execution_count": 41,
   "id": "929aa581-5985-4716-acf8-17127f9dc1cc",
   "metadata": {},
   "outputs": [
    {
     "data": {
      "text/plain": [
       "array(['AUTOMOTIVE', 'BABY CARE', 'BEAUTY', 'BEVERAGES', 'BOOKS',\n",
       "       'BREAD/BAKERY', 'CELEBRATION', 'CLEANING', 'DAIRY', 'DELI', 'EGGS',\n",
       "       'FROZEN FOODS', 'GROCERY I', 'GROCERY II', 'HARDWARE',\n",
       "       'HOME AND KITCHEN I', 'HOME AND KITCHEN II', 'HOME APPLIANCES',\n",
       "       'HOME CARE', 'LADIESWEAR', 'LAWN AND GARDEN', 'LINGERIE',\n",
       "       'LIQUOR,WINE,BEER', 'MAGAZINES', 'MEATS', 'PERSONAL CARE',\n",
       "       'PET SUPPLIES', 'PLAYERS AND ELECTRONICS', 'POULTRY',\n",
       "       'PREPARED FOODS', 'PRODUCE', 'SCHOOL AND OFFICE SUPPLIES',\n",
       "       'SEAFOOD'], dtype=object)"
      ]
     },
     "execution_count": 41,
     "metadata": {},
     "output_type": "execute_result"
    }
   ],
   "source": [
    "# liste de famille des produits vendus par chque magasin\n",
    "train.family.unique()"
   ]
  },
  {
   "cell_type": "code",
   "execution_count": 35,
   "id": "656aad3a-f568-4ea9-8434-e500e07c1ae7",
   "metadata": {},
   "outputs": [
    {
     "data": {
      "text/plain": [
       "array([ 1,  2,  3,  4,  5,  6,  7,  8,  9, 10, 11, 12, 13, 14, 15, 16, 17,\n",
       "       18, 19, 20, 21, 22, 23, 24, 25, 26, 27, 28, 29, 30, 31, 32, 33, 34,\n",
       "       35, 36, 37, 38, 39, 40, 41, 42, 43, 44, 45, 46, 47, 48, 49, 50, 51,\n",
       "       52, 53, 54])"
      ]
     },
     "execution_count": 35,
     "metadata": {},
     "output_type": "execute_result"
    }
   ],
   "source": [
    "# Liste des stores\n",
    "np.array(sorted(train.store_nbr.unique()))"
   ]
  },
  {
   "cell_type": "markdown",
   "id": "88e6fd81-fc50-47ce-8aab-ae3f14b87b88",
   "metadata": {},
   "source": [
    "#### **2.  Chargement de stores.csv**"
   ]
  },
  {
   "cell_type": "code",
   "execution_count": 36,
   "id": "ca526b6d-952a-4f09-909f-c4f54c04bde9",
   "metadata": {},
   "outputs": [],
   "source": [
    "stores = pd.read_csv(path + \"stores.csv\")"
   ]
  },
  {
   "cell_type": "markdown",
   "id": "117329d5-6e29-4ec7-a08b-48e12acac7d1",
   "metadata": {},
   "source": [
    "##### **2.1.  Description des variables de stores Dataset**\n",
    "\n",
    "- **store_nbr** : The store number, a unique identifier for each store.\n",
    "- **city** : The city where the store is located.\n",
    "- **state** : The state where the store is located.\n",
    "- **type** : The type of store.\n",
    "- **cluster** : A grouping of similar stores."
   ]
  },
  {
   "cell_type": "markdown",
   "id": "b9bd5853-2946-4203-bded-183b61b24d42",
   "metadata": {},
   "source": [
    "##### **2.2.  Caractéristiques des variables de stores Dataset**"
   ]
  },
  {
   "cell_type": "code",
   "execution_count": 37,
   "id": "1626bf46-aa10-4385-99a9-50d5cff117ea",
   "metadata": {},
   "outputs": [
    {
     "data": {
      "text/html": [
       "<div>\n",
       "<style scoped>\n",
       "    .dataframe tbody tr th:only-of-type {\n",
       "        vertical-align: middle;\n",
       "    }\n",
       "\n",
       "    .dataframe tbody tr th {\n",
       "        vertical-align: top;\n",
       "    }\n",
       "\n",
       "    .dataframe thead th {\n",
       "        text-align: right;\n",
       "    }\n",
       "</style>\n",
       "<table border=\"1\" class=\"dataframe\">\n",
       "  <thead>\n",
       "    <tr style=\"text-align: right;\">\n",
       "      <th></th>\n",
       "      <th>total_rows</th>\n",
       "      <th>missing_values</th>\n",
       "      <th>unique</th>\n",
       "      <th>cardinality</th>\n",
       "      <th>with_null</th>\n",
       "      <th>null_pct</th>\n",
       "      <th>1st_row</th>\n",
       "      <th>random_row</th>\n",
       "      <th>last_row</th>\n",
       "      <th>dtype</th>\n",
       "    </tr>\n",
       "  </thead>\n",
       "  <tbody>\n",
       "    <tr>\n",
       "      <th>store_nbr</th>\n",
       "      <td>54</td>\n",
       "      <td>0</td>\n",
       "      <td>True</td>\n",
       "      <td>54</td>\n",
       "      <td>False</td>\n",
       "      <td>0.0</td>\n",
       "      <td>1</td>\n",
       "      <td>13</td>\n",
       "      <td>54</td>\n",
       "      <td>int64</td>\n",
       "    </tr>\n",
       "    <tr>\n",
       "      <th>city</th>\n",
       "      <td>54</td>\n",
       "      <td>0</td>\n",
       "      <td>False</td>\n",
       "      <td>22</td>\n",
       "      <td>False</td>\n",
       "      <td>0.0</td>\n",
       "      <td>Quito</td>\n",
       "      <td>Latacunga</td>\n",
       "      <td>El Carmen</td>\n",
       "      <td>object</td>\n",
       "    </tr>\n",
       "    <tr>\n",
       "      <th>state</th>\n",
       "      <td>54</td>\n",
       "      <td>0</td>\n",
       "      <td>False</td>\n",
       "      <td>16</td>\n",
       "      <td>False</td>\n",
       "      <td>0.0</td>\n",
       "      <td>Pichincha</td>\n",
       "      <td>Cotopaxi</td>\n",
       "      <td>Manabi</td>\n",
       "      <td>object</td>\n",
       "    </tr>\n",
       "    <tr>\n",
       "      <th>type</th>\n",
       "      <td>54</td>\n",
       "      <td>0</td>\n",
       "      <td>False</td>\n",
       "      <td>5</td>\n",
       "      <td>False</td>\n",
       "      <td>0.0</td>\n",
       "      <td>D</td>\n",
       "      <td>C</td>\n",
       "      <td>C</td>\n",
       "      <td>object</td>\n",
       "    </tr>\n",
       "    <tr>\n",
       "      <th>cluster</th>\n",
       "      <td>54</td>\n",
       "      <td>0</td>\n",
       "      <td>False</td>\n",
       "      <td>17</td>\n",
       "      <td>False</td>\n",
       "      <td>0.0</td>\n",
       "      <td>13</td>\n",
       "      <td>15</td>\n",
       "      <td>3</td>\n",
       "      <td>int64</td>\n",
       "    </tr>\n",
       "  </tbody>\n",
       "</table>\n",
       "</div>"
      ],
      "text/plain": [
       "           total_rows  missing_values  unique  cardinality  with_null  \\\n",
       "store_nbr          54               0    True           54      False   \n",
       "city               54               0   False           22      False   \n",
       "state              54               0   False           16      False   \n",
       "type               54               0   False            5      False   \n",
       "cluster            54               0   False           17      False   \n",
       "\n",
       "           null_pct    1st_row random_row   last_row   dtype  \n",
       "store_nbr       0.0          1         13         54   int64  \n",
       "city            0.0      Quito  Latacunga  El Carmen  object  \n",
       "state           0.0  Pichincha   Cotopaxi     Manabi  object  \n",
       "type            0.0          D          C          C  object  \n",
       "cluster         0.0         13         15          3   int64  "
      ]
     },
     "execution_count": 37,
     "metadata": {},
     "output_type": "execute_result"
    }
   ],
   "source": [
    "inspect_columns(stores)"
   ]
  },
  {
   "cell_type": "code",
   "execution_count": 40,
   "id": "18cf7672-d05d-45a9-8ba4-43acfa6696e6",
   "metadata": {},
   "outputs": [
    {
     "data": {
      "text/html": [
       "<div>\n",
       "<style scoped>\n",
       "    .dataframe tbody tr th:only-of-type {\n",
       "        vertical-align: middle;\n",
       "    }\n",
       "\n",
       "    .dataframe tbody tr th {\n",
       "        vertical-align: top;\n",
       "    }\n",
       "\n",
       "    .dataframe thead th {\n",
       "        text-align: right;\n",
       "    }\n",
       "</style>\n",
       "<table border=\"1\" class=\"dataframe\">\n",
       "  <thead>\n",
       "    <tr style=\"text-align: right;\">\n",
       "      <th></th>\n",
       "      <th>store_nbr</th>\n",
       "      <th>city</th>\n",
       "      <th>state</th>\n",
       "      <th>type</th>\n",
       "      <th>cluster</th>\n",
       "    </tr>\n",
       "  </thead>\n",
       "  <tbody>\n",
       "    <tr>\n",
       "      <th>33</th>\n",
       "      <td>34</td>\n",
       "      <td>Guayaquil</td>\n",
       "      <td>Guayas</td>\n",
       "      <td>B</td>\n",
       "      <td>6</td>\n",
       "    </tr>\n",
       "    <tr>\n",
       "      <th>11</th>\n",
       "      <td>12</td>\n",
       "      <td>Latacunga</td>\n",
       "      <td>Cotopaxi</td>\n",
       "      <td>C</td>\n",
       "      <td>15</td>\n",
       "    </tr>\n",
       "    <tr>\n",
       "      <th>17</th>\n",
       "      <td>18</td>\n",
       "      <td>Quito</td>\n",
       "      <td>Pichincha</td>\n",
       "      <td>B</td>\n",
       "      <td>16</td>\n",
       "    </tr>\n",
       "    <tr>\n",
       "      <th>49</th>\n",
       "      <td>50</td>\n",
       "      <td>Ambato</td>\n",
       "      <td>Tungurahua</td>\n",
       "      <td>A</td>\n",
       "      <td>14</td>\n",
       "    </tr>\n",
       "    <tr>\n",
       "      <th>14</th>\n",
       "      <td>15</td>\n",
       "      <td>Ibarra</td>\n",
       "      <td>Imbabura</td>\n",
       "      <td>C</td>\n",
       "      <td>15</td>\n",
       "    </tr>\n",
       "  </tbody>\n",
       "</table>\n",
       "</div>"
      ],
      "text/plain": [
       "    store_nbr       city       state type  cluster\n",
       "33         34  Guayaquil      Guayas    B        6\n",
       "11         12  Latacunga    Cotopaxi    C       15\n",
       "17         18      Quito   Pichincha    B       16\n",
       "49         50     Ambato  Tungurahua    A       14\n",
       "14         15     Ibarra    Imbabura    C       15"
      ]
     },
     "execution_count": 40,
     "metadata": {},
     "output_type": "execute_result"
    }
   ],
   "source": [
    "stores.sample(5)"
   ]
  },
  {
   "cell_type": "markdown",
   "id": "b1905c52-1469-4993-b201-021045bf480b",
   "metadata": {},
   "source": [
    "#### **3.  Analyse de : Trend Seasonality & Residuals**"
   ]
  },
  {
   "cell_type": "code",
   "execution_count": 24,
   "id": "beae1470-421b-4f61-be60-5ddb23d517c9",
   "metadata": {},
   "outputs": [
    {
     "data": {
      "image/png": "[encoded data removed]",
      "text/plain": [
       "<Figure size 1400x600 with 4 Axes>"
      ]
     },
     "metadata": {},
     "output_type": "display_data"
    }
   ],
   "source": [
    "t_series = train.groupby(['date'])['sales'].agg(['mean']).reset_index().rename(columns={'mean': 'msales'})\n",
    "t_series = t_series.set_index('date')\n",
    "sample = t_series['msales'].resample('MS').mean()\n",
    "decomposition = sm.tsa.seasonal_decompose(sample, model='additive')\n",
    "fig = decomposition.plot()\n",
    "fig.set_size_inches((14, 6))\n",
    "fig.tight_layout()\n",
    "plt.show()\n",
    "plt.close()"
   ]
  },
  {
   "cell_type": "markdown",
   "id": "121e11bd-08f0-47d8-a705-8494b8aa4970",
   "metadata": {},
   "source": [
    "#### **4.  Chargement de Transactions.csv**"
   ]
  },
  {
   "cell_type": "code",
   "execution_count": 32,
   "id": "8117f302-6e9e-4b78-ab16-a54db32f0168",
   "metadata": {},
   "outputs": [],
   "source": [
    "transactions = pd.read_csv(path + \"transactions.csv\")\n",
    "transactions[\"date\"] = pd.to_datetime(transactions.date)"
   ]
  },
  {
   "cell_type": "markdown",
   "id": "c663dd3b-c3bb-46ed-a3e7-96e34fa7cca1",
   "metadata": {},
   "source": [
    "##### **4.1.  Descriptions des variables de transactions Dataset:**\n",
    "- **date** : The date when the data was recorded.\n",
    "- **store_nbr** : The store number, a unique identifier for each store.\n",
    "- **transactions** : The total number of transactions that occurred in a store on a given date."
   ]
  },
  {
   "cell_type": "code",
   "execution_count": null,
   "id": "946bea59-b3c7-41f6-8557-8f26af6f1ff8",
   "metadata": {},
   "outputs": [],
   "source": [
    "##### **4.1.  Descriptions des variables de transactions Dataset:**"
   ]
  },
  {
   "cell_type": "code",
   "execution_count": 42,
   "id": "52dee901-7f01-482f-a597-5a05776fb6fc",
   "metadata": {},
   "outputs": [
    {
     "data": {
      "text/html": [
       "<div>\n",
       "<style scoped>\n",
       "    .dataframe tbody tr th:only-of-type {\n",
       "        vertical-align: middle;\n",
       "    }\n",
       "\n",
       "    .dataframe tbody tr th {\n",
       "        vertical-align: top;\n",
       "    }\n",
       "\n",
       "    .dataframe thead th {\n",
       "        text-align: right;\n",
       "    }\n",
       "</style>\n",
       "<table border=\"1\" class=\"dataframe\">\n",
       "  <thead>\n",
       "    <tr style=\"text-align: right;\">\n",
       "      <th></th>\n",
       "      <th>total_rows</th>\n",
       "      <th>missing_values</th>\n",
       "      <th>unique</th>\n",
       "      <th>cardinality</th>\n",
       "      <th>with_null</th>\n",
       "      <th>null_pct</th>\n",
       "      <th>1st_row</th>\n",
       "      <th>random_row</th>\n",
       "      <th>last_row</th>\n",
       "      <th>dtype</th>\n",
       "    </tr>\n",
       "  </thead>\n",
       "  <tbody>\n",
       "    <tr>\n",
       "      <th>date</th>\n",
       "      <td>83488</td>\n",
       "      <td>0</td>\n",
       "      <td>False</td>\n",
       "      <td>1682</td>\n",
       "      <td>False</td>\n",
       "      <td>0.0</td>\n",
       "      <td>2013-01-01 00:00:00</td>\n",
       "      <td>2016-02-14 00:00:00</td>\n",
       "      <td>2017-08-15 00:00:00</td>\n",
       "      <td>datetime64[ns]</td>\n",
       "    </tr>\n",
       "    <tr>\n",
       "      <th>store_nbr</th>\n",
       "      <td>83488</td>\n",
       "      <td>0</td>\n",
       "      <td>False</td>\n",
       "      <td>54</td>\n",
       "      <td>False</td>\n",
       "      <td>0.0</td>\n",
       "      <td>25</td>\n",
       "      <td>42</td>\n",
       "      <td>54</td>\n",
       "      <td>int64</td>\n",
       "    </tr>\n",
       "    <tr>\n",
       "      <th>transactions</th>\n",
       "      <td>83488</td>\n",
       "      <td>0</td>\n",
       "      <td>False</td>\n",
       "      <td>4993</td>\n",
       "      <td>False</td>\n",
       "      <td>0.0</td>\n",
       "      <td>770</td>\n",
       "      <td>1263</td>\n",
       "      <td>802</td>\n",
       "      <td>int64</td>\n",
       "    </tr>\n",
       "  </tbody>\n",
       "</table>\n",
       "</div>"
      ],
      "text/plain": [
       "              total_rows  missing_values  unique  cardinality  with_null  \\\n",
       "date               83488               0   False         1682      False   \n",
       "store_nbr          83488               0   False           54      False   \n",
       "transactions       83488               0   False         4993      False   \n",
       "\n",
       "              null_pct              1st_row           random_row  \\\n",
       "date               0.0  2013-01-01 00:00:00  2016-02-14 00:00:00   \n",
       "store_nbr          0.0                   25                   42   \n",
       "transactions       0.0                  770                 1263   \n",
       "\n",
       "                         last_row           dtype  \n",
       "date          2017-08-15 00:00:00  datetime64[ns]  \n",
       "store_nbr                      54           int64  \n",
       "transactions                  802           int64  "
      ]
     },
     "execution_count": 42,
     "metadata": {},
     "output_type": "execute_result"
    }
   ],
   "source": [
    "inspect_columns(transactions)"
   ]
  },
  {
   "cell_type": "code",
   "execution_count": 44,
   "id": "e508ff43-9dcd-48a9-a223-be4eaa71bd93",
   "metadata": {},
   "outputs": [
    {
     "data": {
      "text/html": [
       "<div>\n",
       "<style scoped>\n",
       "    .dataframe tbody tr th:only-of-type {\n",
       "        vertical-align: middle;\n",
       "    }\n",
       "\n",
       "    .dataframe tbody tr th {\n",
       "        vertical-align: top;\n",
       "    }\n",
       "\n",
       "    .dataframe thead th {\n",
       "        text-align: right;\n",
       "    }\n",
       "</style>\n",
       "<table border=\"1\" class=\"dataframe\">\n",
       "  <thead>\n",
       "    <tr style=\"text-align: right;\">\n",
       "      <th></th>\n",
       "      <th>date</th>\n",
       "      <th>store_nbr</th>\n",
       "      <th>transactions</th>\n",
       "    </tr>\n",
       "  </thead>\n",
       "  <tbody>\n",
       "    <tr>\n",
       "      <th>27666</th>\n",
       "      <td>2014-08-19</td>\n",
       "      <td>35</td>\n",
       "      <td>697</td>\n",
       "    </tr>\n",
       "    <tr>\n",
       "      <th>40703</th>\n",
       "      <td>2015-05-18</td>\n",
       "      <td>28</td>\n",
       "      <td>1116</td>\n",
       "    </tr>\n",
       "    <tr>\n",
       "      <th>40136</th>\n",
       "      <td>2015-05-06</td>\n",
       "      <td>50</td>\n",
       "      <td>2484</td>\n",
       "    </tr>\n",
       "    <tr>\n",
       "      <th>71727</th>\n",
       "      <td>2017-01-08</td>\n",
       "      <td>18</td>\n",
       "      <td>1341</td>\n",
       "    </tr>\n",
       "    <tr>\n",
       "      <th>6844</th>\n",
       "      <td>2013-05-30</td>\n",
       "      <td>15</td>\n",
       "      <td>1390</td>\n",
       "    </tr>\n",
       "  </tbody>\n",
       "</table>\n",
       "</div>"
      ],
      "text/plain": [
       "            date  store_nbr  transactions\n",
       "27666 2014-08-19         35           697\n",
       "40703 2015-05-18         28          1116\n",
       "40136 2015-05-06         50          2484\n",
       "71727 2017-01-08         18          1341\n",
       "6844  2013-05-30         15          1390"
      ]
     },
     "execution_count": 44,
     "metadata": {},
     "output_type": "execute_result"
    }
   ],
   "source": [
    "transactions.sample(5)"
   ]
  },
  {
   "cell_type": "code",
   "execution_count": null,
   "id": "e6cd8a81-b968-47b4-a953-26495338f1e8",
   "metadata": {},
   "outputs": [],
   "source": []
  },
  {
   "cell_type": "code",
   "execution_count": 30,
   "id": "d95afee3-4639-48fe-ab68-8f53e84fa0ba",
   "metadata": {},
   "outputs": [
    {
     "ename": "NameError",
     "evalue": "name 'transactions' is not defined",
     "output_type": "error",
     "traceback": [
      "\u001b[0;31m---------------------------------------------------------------------------\u001b[0m",
      "\u001b[0;31mNameError\u001b[0m                                 Traceback (most recent call last)",
      "Cell \u001b[0;32mIn[30], line 2\u001b[0m\n\u001b[1;32m      1\u001b[0m \u001b[38;5;66;03m# Merging the train and transactions datasets on 'date' and 'store_nbr' \u001b[39;00m\n\u001b[0;32m----> 2\u001b[0m train_merged \u001b[38;5;241m=\u001b[39m pd\u001b[38;5;241m.\u001b[39mmerge(train, transactions, on\u001b[38;5;241m=\u001b[39m[\u001b[38;5;124m'\u001b[39m\u001b[38;5;124mdate\u001b[39m\u001b[38;5;124m'\u001b[39m, \u001b[38;5;124m'\u001b[39m\u001b[38;5;124mstore_nbr\u001b[39m\u001b[38;5;124m'\u001b[39m], how\u001b[38;5;241m=\u001b[39m\u001b[38;5;124m'\u001b[39m\u001b[38;5;124mleft\u001b[39m\u001b[38;5;124m'\u001b[39m)\n\u001b[1;32m      3\u001b[0m \u001b[38;5;66;03m# Merging the train_merged and Oil datasets on 'date' (Remember to take average of oil price during analysis)\u001b[39;00m\n\u001b[1;32m      4\u001b[0m train_merged \u001b[38;5;241m=\u001b[39m pd\u001b[38;5;241m.\u001b[39mmerge(train_merged, oil, on\u001b[38;5;241m=\u001b[39m[\u001b[38;5;124m'\u001b[39m\u001b[38;5;124mdate\u001b[39m\u001b[38;5;124m'\u001b[39m], how\u001b[38;5;241m=\u001b[39m\u001b[38;5;124m'\u001b[39m\u001b[38;5;124mleft\u001b[39m\u001b[38;5;124m'\u001b[39m)\n",
      "\u001b[0;31mNameError\u001b[0m: name 'transactions' is not defined"
     ]
    }
   ],
   "source": [
    "# Merging the train and transactions datasets on 'date' and 'store_nbr' \n",
    "train_merged = pd.merge(train, transactions, on=['date', 'store_nbr'], how='left')\n",
    "\n",
    "# Merging the train_merged and Oil datasets on 'date' (Remember to take average of oil price during analysis)\n",
    "train_merged = pd.merge(train_merged, oil, on=['date'], how='left')\n",
    "# Merging the train_merged and Holiday Event datasets on 'date' (Take Note the date in Holiday is not unique)\\\n",
    "holidays_events_unique = holidays_events.groupby(by='date').agg({'transferred':'max'})\n",
    "train_merged = pd.merge(train_merged, holidays_events_unique, on=['date'], how='left')\n",
    "# Merging the train_merged and stores datasets on 'store_nbr' \n",
    "train_merged = pd.merge(train_merged, stores, on=['store_nbr'], how='left')\n",
    "\n",
    "# Check the intergity of the train data set\n",
    "\n",
    "if len(train) == len(train_merged):\n",
    "    print('\\033[92m ✅ Integrity Check Passed: The length of the original and merged datasets are equal.\\033[0m')\n",
    "else:\n",
    "    print('\\033[91m ❌ Integrity Check Failed: The length of the original and merged datasets differ.\\033[0m')"
   ]
  },
  {
   "cell_type": "code",
   "execution_count": 29,
   "id": "5b9063f2-0d7e-455d-bd55-112ec5a90615",
   "metadata": {},
   "outputs": [
    {
     "ename": "NameError",
     "evalue": "name 'train_merged' is not defined",
     "output_type": "error",
     "traceback": [
      "\u001b[0;31m---------------------------------------------------------------------------\u001b[0m",
      "\u001b[0;31mNameError\u001b[0m                                 Traceback (most recent call last)",
      "Cell \u001b[0;32mIn[29], line 1\u001b[0m\n\u001b[0;32m----> 1\u001b[0m train_merged[\u001b[38;5;124m'\u001b[39m\u001b[38;5;124mdate\u001b[39m\u001b[38;5;124m'\u001b[39m] \u001b[38;5;241m=\u001b[39m pd\u001b[38;5;241m.\u001b[39mto_datetime(train_merged[\u001b[38;5;124m'\u001b[39m\u001b[38;5;124mdate\u001b[39m\u001b[38;5;124m'\u001b[39m])\n\u001b[1;32m      3\u001b[0m \u001b[38;5;66;03m# Aggregate daily sales\u001b[39;00m\n\u001b[1;32m      4\u001b[0m daily_sales \u001b[38;5;241m=\u001b[39m train_merged\u001b[38;5;241m.\u001b[39mgroupby(\u001b[38;5;124m'\u001b[39m\u001b[38;5;124mdate\u001b[39m\u001b[38;5;124m'\u001b[39m)[\u001b[38;5;124m'\u001b[39m\u001b[38;5;124msales\u001b[39m\u001b[38;5;124m'\u001b[39m]\u001b[38;5;241m.\u001b[39msum()\u001b[38;5;241m.\u001b[39mreset_index()\n",
      "\u001b[0;31mNameError\u001b[0m: name 'train_merged' is not defined"
     ]
    }
   ],
   "source": [
    "train_merged['date'] = pd.to_datetime(train_merged['date'])\n",
    "\n",
    "# Aggregate daily sales\n",
    "daily_sales = train_merged.groupby('date')['sales'].sum().reset_index()\n",
    "\n",
    "# Calculate the 30-day moving average of daily sales\n",
    "daily_sales['30_day_ma'] = daily_sales['sales'].rolling(window=30).mean()\n",
    "\n",
    "# Plotting\n",
    "plt.figure(figsize=(14, 7))\n",
    "\n",
    "# Original daily sales with transparency\n",
    "plt.plot(daily_sales['date'], daily_sales['sales'], label='Daily Sales', color='skyblue', alpha=0.5)\n",
    "\n",
    "# 30-day moving average of sales\n",
    "plt.plot(daily_sales['date'], daily_sales['30_day_ma'], label='30-Day Moving Average', color='darkblue', linewidth=2)\n",
    "\n",
    "# Enhancing the plot\n",
    "plt.title('Daily Sales and 30-Day Moving Average Trend', fontsize=16)\n",
    "plt.xlabel('Date', fontsize=14)\n",
    "plt.ylabel('Sales', fontsize=14)\n",
    "plt.legend()\n",
    "\n",
    "plt.show()"
   ]
  },
  {
   "cell_type": "code",
   "execution_count": null,
   "id": "047ae6ae-c257-4114-af36-f881afb69385",
   "metadata": {},
   "outputs": [],
   "source": []
  },
  {
   "cell_type": "code",
   "execution_count": null,
   "id": "cfa81eea-1051-4f92-a85a-298236c5f9f1",
   "metadata": {},
   "outputs": [],
   "source": []
  },
  {
   "cell_type": "markdown",
   "id": "b104e573-747a-43ec-a215-7b83fd5ad9a7",
   "metadata": {},
   "source": []
  },
  {
   "cell_type": "code",
   "execution_count": null,
   "id": "a4546696-0214-4bbc-8a5c-66b5acc7c49b",
   "metadata": {},
   "outputs": [],
   "source": []
  },
  {
   "cell_type": "code",
   "execution_count": null,
   "id": "bb811925-8802-40a9-91c7-db0c8d213f89",
   "metadata": {},
   "outputs": [],
   "source": [
    "holiday_events = pd.read_csv(path + \"holidays_events.csv\")\n",
    "oil = pd.read_csv(path + \"oil.csv\")\n",
    "\n",
    "\n",
    "holiday_events[\"date\"] = pd.to_datetime(holiday_events.date)\n",
    "oil[\"date\"] = pd.to_datetime(oil.date)\n"
   ]
  },
  {
   "cell_type": "code",
   "execution_count": null,
   "id": "fc02997e-b211-4037-93a2-efc65cedb61a",
   "metadata": {},
   "outputs": [],
   "source": [
    "From oil.csv:\n",
    "date - The date when the oil price was recorded.\n",
    "dcoilwtico - The daily oil price; \"WTI\" refers to West Texas Intermediate, a grade of crude oil used as a benchmark in oil pricing.\n",
    "\n",
    "From holidays_events.csv:\n",
    "date - The date of the holiday or event.\n",
    "type - The type of holiday or event (e.g., Holiday, Event, Bridge, Work Day, Transfer).\n",
    "locale - The locale where the holiday is observed (e.g., National, Regional, Local).\n",
    "locale_name - The name of the locale where the holiday is observed.\n",
    "description - A brief description of the holiday or event.\n",
    "transferred - Indicates whether the holiday was transferred to another date (True or False).\n",
    "\n"
   ]
  },
  {
   "cell_type": "code",
   "execution_count": null,
   "id": "9a7cb40e-49ce-4bca-8e08-0387ca141195",
   "metadata": {},
   "outputs": [],
   "source": []
  }
 ],
 "metadata": {
  "kernelspec": {
   "display_name": "Python 3 (ipykernel)",
   "language": "python",
   "name": "python3"
  },
  "language_info": {
   "codemirror_mode": {
    "name": "ipython",
    "version": 3
   },
   "file_extension": ".py",
   "mimetype": "text/x-python",
   "name": "python",
   "nbconvert_exporter": "python",
   "pygments_lexer": "ipython3",
   "version": "3.11.5"
  }
 },
 "nbformat": 4,
 "nbformat_minor": 5
}
